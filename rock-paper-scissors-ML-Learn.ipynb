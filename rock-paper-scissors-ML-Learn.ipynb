{
  "nbformat": 4,
  "nbformat_minor": 0,
  "metadata": {
    "colab": {
      "name": "Submission.ipynb",
      "private_outputs": true,
      "provenance": [],
      "collapsed_sections": [],
      "toc_visible": true,
      "include_colab_link": true
    },
    "kernelspec": {
      "display_name": "Python 3",
      "name": "python3"
    },
    "language_info": {
      "codemirror_mode": {
        "name": "ipython",
        "version": 3
      },
      "file_extension": ".py",
      "mimetype": "text/x-python",
      "name": "python",
      "nbconvert_exporter": "python",
      "pygments_lexer": "ipython3",
      "version": "3.9.7"
    }
  },
  "cells": [
    {
      "cell_type": "markdown",
      "metadata": {
        "id": "view-in-github",
        "colab_type": "text"
      },
      "source": [
        "<a href=\"https://colab.research.google.com/github/vicco7s/ML-Learn/blob/main/rock-paper-scissors-ML-Learn.ipynb\" target=\"_parent\"><img src=\"https://colab.research.google.com/assets/colab-badge.svg\" alt=\"Open In Colab\"/></a>"
      ]
    },
    {
      "cell_type": "markdown",
      "metadata": {
        "id": "1P__IXHkB27p"
      },
      "source": [
        "# Rock paper scissors CNN Algoritm"
      ]
    },
    {
      "cell_type": "code",
      "metadata": {
        "id": "sfalyfrFKg0H"
      },
      "source": [
        "import tensorflow as tf\n",
        "from tensorflow.keras.optimizers import RMSprop\n",
        "from tensorflow.keras.preprocessing.image import ImageDataGenerator"
      ],
      "execution_count": null,
      "outputs": []
    },
    {
      "cell_type": "markdown",
      "metadata": {
        "id": "rVNtupojB8iC"
      },
      "source": [
        "Dataset yang akan di Training"
      ]
    },
    {
      "cell_type": "code",
      "metadata": {
        "id": "yTFeTl_SPNrb"
      },
      "source": [
        "!wget --no-check-certificate \\\n",
        "  https://www.dropbox.com/s/y2au7rnar1u6pxn/rockpaperscissors.zip?dl=0 \\\n",
        "  -O /content/rockpaperscissors.zip"
      ],
      "execution_count": null,
      "outputs": []
    },
    {
      "cell_type": "markdown",
      "metadata": {
        "id": "YHlANIIfsGjz"
      },
      "source": [
        "## unzip file ke dalam content"
      ]
    },
    {
      "cell_type": "code",
      "metadata": {
        "id": "2VJBY5mtP93S"
      },
      "source": [
        "import zipfile,os\n",
        "local_zip = '/content/rockpaperscissors.zip'\n",
        "zip_ref = zipfile.ZipFile(local_zip, 'r')\n",
        "zip_ref.extractall('/content')\n",
        "zip_ref.close()\n",
        "\n",
        "base_dir = '/content/rps-cv-images'\n",
        "paper_dir = os.path.join(base_dir, 'paper')\n",
        "rock_dir = os.path.join(base_dir, 'rock')\n",
        "scissors_dir = os.path.join(base_dir, 'scissors')"
      ],
      "execution_count": null,
      "outputs": []
    },
    {
      "cell_type": "markdown",
      "metadata": {
        "id": "gdUs2TM_HaFI"
      },
      "source": [
        "## Membuat objek ImageDataGenerator\n",
        "\n"
      ]
    },
    {
      "cell_type": "code",
      "metadata": {
        "id": "dqDs58kBnpTP"
      },
      "source": [
        "image_generator = ImageDataGenerator(\n",
        "    rescale=1/255,\n",
        "    validation_split=0.2, \n",
        ")\n",
        "train_dataset = image_generator.flow_from_directory(\n",
        "                base_dir,\n",
        "                shuffle=True,\n",
        "                target_size=(150, 150),\n",
        "                batch_size=4, \n",
        "                subset=\"training\",\n",
        "                class_mode='categorical')\n",
        "\n",
        "validation_dataset = image_generator.flow_from_directory(\n",
        "                     base_dir,\n",
        "                     shuffle=True,\n",
        "                     target_size=(150, 150),\n",
        "                     batch_size=4,\n",
        "                     subset=\"validation\",\n",
        "                     class_mode='categorical')"
      ],
      "execution_count": null,
      "outputs": []
    },
    {
      "cell_type": "markdown",
      "metadata": {
        "id": "l3dfPq3zId-B"
      },
      "source": [
        "## Tahap Pembuatan Model dengan Keras menggunakan Alur CNN"
      ]
    },
    {
      "cell_type": "code",
      "metadata": {
        "id": "SGqSRKl8piag"
      },
      "source": [
        "model = tf.keras.models.Sequential([\n",
        "                                    \n",
        "    tf.keras.layers.Conv2D(32, (3,3), activation='relu', input_shape=(150, 150, 3)),\n",
        "    tf.keras.layers.MaxPooling2D(2, 2),\n",
        "    tf.keras.layers.Conv2D(64, (3,3), activation='relu'),\n",
        "    tf.keras.layers.MaxPooling2D(2,2),\n",
        "    tf.keras.layers.Conv2D(128, (3,3), activation='relu'),\n",
        "    tf.keras.layers.MaxPooling2D(2,2),\n",
        "    tf.keras.layers.Conv2D(128, (3,3), activation='relu'),\n",
        "    tf.keras.layers.MaxPooling2D(2,2),\n",
        "    tf.keras.layers.Flatten(),\n",
        "    tf.keras.layers.Dense(512, activation='relu'),\n",
        "    tf.keras.layers.Dropout(0.5),\n",
        "    tf.keras.layers.Dense(3, activation='softmax')\n",
        "\n",
        "])"
      ],
      "execution_count": null,
      "outputs": []
    },
    {
      "cell_type": "markdown",
      "metadata": {
        "id": "FrraDnAwIsXR"
      },
      "source": [
        "## pengoptimalisasi Model yang sudah di buat dan akan dilakukan training"
      ]
    },
    {
      "cell_type": "code",
      "metadata": {
        "id": "KN9svGa5ptd9"
      },
      "source": [
        "model.compile(optimizer=tf.optimizers.Adam(),\n",
        "              loss='categorical_crossentropy',\n",
        "              metrics=['accuracy'])"
      ],
      "execution_count": null,
      "outputs": []
    },
    {
      "cell_type": "markdown",
      "metadata": {
        "id": "98K2Bfx1Fakm"
      },
      "source": [
        "## tahap Melatih Model "
      ]
    },
    {
      "cell_type": "code",
      "metadata": {
        "id": "QdhTe7KHqaAA"
      },
      "source": [
        "model.fit(\n",
        "    train_dataset,\n",
        "    steps_per_epoch=25,\n",
        "    epochs=20,\n",
        "    validation_data=validation_dataset,\n",
        "    validation_steps=5,\n",
        "    verbose=2,\n",
        ")"
      ],
      "execution_count": null,
      "outputs": []
    },
    {
      "cell_type": "markdown",
      "metadata": {
        "id": "EQvNqGwaFlj2"
      },
      "source": [
        "## Output Model yang sudah di training"
      ]
    },
    {
      "cell_type": "code",
      "metadata": {
        "id": "_zqQ3PmrGUQk"
      },
      "source": [
        "import numpy as np\n",
        "from google.colab import files\n",
        "from keras_preprocessing import image\n",
        "import matplotlib.pyplot as plt\n",
        "import matplotlib.image as mpimg\n",
        "import matplotlib.pyplot as plt\n",
        "import matplotlib.image as mpimg\n",
        "%matplotlib inline\n",
        "\n",
        "\n",
        "uploaded = files.upload()\n",
        "\n",
        "for fn in uploaded.keys():\n",
        "\n",
        "  # predicting image\n",
        "  path = fn\n",
        "  img = image.load_img(path, target_size=(150,150))\n",
        "  imgplot = plt.imshow(img)\n",
        "  x = image.img_to_array(img)\n",
        "  x = np.expand_dims(x, axis=0)\n",
        "\n",
        "  images = np.vstack([x])\n",
        "  classes = model.predict(images, batch_size=10)\n",
        "\n",
        "  \n",
        "  print(classes)\n",
        "  if classes[0][0]==1:\n",
        "    print('kertas')\n",
        "  elif classes[0][1]==1:\n",
        "    print('batu')\n",
        "  elif classes[0][1]==0:\n",
        "    print('gunting')\n"
      ],
      "execution_count": null,
      "outputs": []
    },
    {
      "cell_type": "markdown",
      "metadata": {
        "id": "AK6LjCf5I8FD"
      },
      "source": [
        ""
      ]
    }
  ]
}